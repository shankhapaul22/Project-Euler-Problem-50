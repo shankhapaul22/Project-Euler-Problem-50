{
 "cells": [
  {
   "cell_type": "markdown",
   "metadata": {},
   "source": [
    "# Project Euler Problem 50"
   ]
  },
  {
   "cell_type": "markdown",
   "metadata": {},
   "source": [
    "<img src=\"pe50.PNG\">"
   ]
  },
  {
   "cell_type": "code",
   "execution_count": 1,
   "metadata": {},
   "outputs": [],
   "source": [
    "import time\n",
    "import eulerlib\n",
    "import matplotlib.pyplot as plt\n",
    "%matplotlib inline"
   ]
  },
  {
   "cell_type": "markdown",
   "metadata": {},
   "source": [
    "## Helper Function\n",
    "\n",
    "In mathematics, the Sieve of Eratosthenes is an algorithm for finding all prime numbers up to any given limit. You can read more about it in the [Wikipedia page](https://en.wikipedia.org/wiki/Sieve_of_Eratosthenes).\n",
    "\n",
    "The function below was created with the explanation and tips based on this [Khan Academy video](https://www.khanacademy.org/computing/computer-science/cryptography/comp-number-theory/v/sieve-of-eratosthenes-prime-adventure-part-4)."
   ]
  },
  {
   "cell_type": "code",
   "execution_count": 2,
   "metadata": {},
   "outputs": [],
   "source": [
    "def sieve(n):\n",
    "    '''Returns all the prime numbers between the range of 0 and the input number.\n",
    "    Args:\n",
    "        n (int): An integer\n",
    "    Returns:\n",
    "        A list of prime numbers\n",
    "    Raises:\n",
    "        error if input is float or negative\n",
    "    '''\n",
    "    nlist = list(range(n + 1))\n",
    "    nroot = int(n ** 0.5)\n",
    "    \n",
    "    nlist[0] = False\n",
    "    nlist[1] = False\n",
    "    \n",
    "    for i in range(nroot + 1):\n",
    "        if not nlist[i]:\n",
    "            continue\n",
    "        for j in range(i**2, n+1, i):\n",
    "            nlist[j] = False\n",
    "            \n",
    "    primes = [p for p in nlist if p]\n",
    "    \n",
    "    return primes"
   ]
  },
  {
   "cell_type": "markdown",
   "metadata": {},
   "source": [
    "## Test \n",
    "\n",
    "The eulerlib library contains similar functions as the function created above. I will be using this library to test and verify my function."
   ]
  },
  {
   "cell_type": "code",
   "execution_count": 3,
   "metadata": {},
   "outputs": [
    {
     "name": "stdout",
     "output_type": "stream",
     "text": [
      "Sieve function is working properly\n"
     ]
    }
   ],
   "source": [
    "tests = [100, 568, 1000, 4000]\n",
    "confirmation = []\n",
    "for test in tests:\n",
    "    euler_primes = eulerlib.primes(test)\n",
    "    sieve_primes = sieve(test)\n",
    "    if euler_primes == sieve_primes:\n",
    "        confirmation.append(True)\n",
    "    else:\n",
    "        confirmation.append(False)\n",
    "\n",
    "if all(x == confirmation[0] for x in confirmation):\n",
    "    print('Sieve function is working properly')\n",
    "else:\n",
    "    print('There is something wrong with sieve function')\n",
    "    print('confirmation')"
   ]
  },
  {
   "cell_type": "markdown",
   "metadata": {},
   "source": [
    "## Function to Solve Problem\n",
    "\n",
    "The goal is to find the prime number with the **highest** number of consecutive prime numbers in its sum. The goal is NOT the largest prime number with consecutive prime numbers in its sum."
   ]
  },
  {
   "cell_type": "code",
   "execution_count": 4,
   "metadata": {},
   "outputs": [],
   "source": [
    "def prime_with_longest_sum(num):\n",
    "    \n",
    "    largest_prime = 0\n",
    "    length = 0\n",
    "    primes = sieve(num)\n",
    "    \n",
    "    for i in range(len(primes)):\n",
    "        consec = primes[i:]\n",
    "        j = i\n",
    "        prime_sum = 0\n",
    "        for prime_num in consec:\n",
    "            prime_sum += prime_num\n",
    "            if prime_sum > num:\n",
    "                break\n",
    "            j += 1\n",
    "            if (prime_sum in primes) and (j-i > length):\n",
    "                length = j - i\n",
    "                largest_prime = prime_sum\n",
    "                \n",
    "    return largest_prime, length"
   ]
  },
  {
   "cell_type": "markdown",
   "metadata": {},
   "source": [
    "This function starts at the first prime and iterates to add the next prime numbers in the list. Once the sumation reaches the input value, the function breaks the loop. The function checks to see if the summation value is a prime number in the prime number list and if it the length of the consecutive sequence is longer than the length stored. If both conditions are met, the function stores the sum as the largest prime and stores the new length.\n",
    "\n",
    "We will manually test this function from the givens in the problem. For input of 100, the output should be 41 as the largest prime with 6 terms. For input of 1000, the output should be 953 with 21 terms."
   ]
  },
  {
   "cell_type": "code",
   "execution_count": 5,
   "metadata": {},
   "outputs": [
    {
     "name": "stdout",
     "output_type": "stream",
     "text": [
      "Function is accurate according to test\n"
     ]
    }
   ],
   "source": [
    "test_inputs = [100,1000]\n",
    "desired_outputs = [(41, 6), (953, 21)]\n",
    "\n",
    "test_outputs = []\n",
    "for input_ in test_inputs:\n",
    "    output = prime_with_longest_sum(input_)\n",
    "    test_outputs.append(output)\n",
    "    \n",
    "if test_outputs == desired_outputs:\n",
    "    print('Function is accurate according to test')\n",
    "else:\n",
    "    print('Function is inaccurate')"
   ]
  },
  {
   "cell_type": "code",
   "execution_count": 6,
   "metadata": {},
   "outputs": [],
   "source": [
    "#The commented out task below has to be interrupted as it times out\n",
    "\n",
    "#largest_prime, terms = prime_with_longest_sum(1000000)"
   ]
  },
  {
   "cell_type": "markdown",
   "metadata": {},
   "source": [
    "There is a runtime error with the function to solve the euler problem. We will look at runtimes to find any insights."
   ]
  },
  {
   "cell_type": "code",
   "execution_count": 7,
   "metadata": {},
   "outputs": [
    {
     "data": {
      "text/plain": [
       "[0.0,\n",
       " 0.0,\n",
       " 0.0013263225555419922,\n",
       " 0.03962826728820801,\n",
       " 0.17215657234191895,\n",
       " 3.888977289199829,\n",
       " 14.507899761199951]"
      ]
     },
     "execution_count": 7,
     "metadata": {},
     "output_type": "execute_result"
    }
   ],
   "source": [
    "inputs = [100, 500, 1000, 5000, 10000, 50000, 100000]\n",
    "runtimes = []\n",
    "\n",
    "for i in inputs:\n",
    "    start = time.time()\n",
    "    prime_with_longest_sum(i)\n",
    "    runtime = time.time() - start\n",
    "    runtimes.append(runtime)\n",
    "    \n",
    "runtimes"
   ]
  },
  {
   "cell_type": "code",
   "execution_count": 8,
   "metadata": {},
   "outputs": [
    {
     "data": {
      "image/png": "[encoded data removed]",
      "text/plain": [
       "<Figure size 432x288 with 1 Axes>"
      ]
     },
     "metadata": {
      "needs_background": "light"
     },
     "output_type": "display_data"
    }
   ],
   "source": [
    "#plot runtimes \n",
    "plt.plot(inputs, runtimes)\n",
    "plt.title('Function Runtimes')\n",
    "plt.xlabel('Input Number')\n",
    "plt.ylabel('Runtime')\n",
    "plt.show()"
   ]
  },
  {
   "cell_type": "markdown",
   "metadata": {},
   "source": [
    "The relationship between the runtime and input show inefficient time complexity of our current function. This explains why our function timed out.\n",
    "\n",
    "We need to update our function for better efficiency."
   ]
  },
  {
   "cell_type": "markdown",
   "metadata": {},
   "source": [
    "## Function Updated"
   ]
  },
  {
   "cell_type": "code",
   "execution_count": 9,
   "metadata": {},
   "outputs": [],
   "source": [
    "def prime_with_longest_sum_2(num):\n",
    "    \n",
    "    largest_prime = 0\n",
    "    length = 0\n",
    "    primes = sieve(num)\n",
    "    \n",
    "    for i in range(len(primes)):\n",
    "        for j in range(i + length, len(primes)):\n",
    "            prime_sum  = sum(primes[i:j])\n",
    "            if prime_sum > num:\n",
    "                break\n",
    "            else:\n",
    "                if prime_sum in primes:\n",
    "                    length = j - i\n",
    "                    largest_prime = prime_sum\n",
    "    \n",
    "    return largest_prime, length"
   ]
  },
  {
   "cell_type": "markdown",
   "metadata": {},
   "source": [
    "In the updated function, the focus is to minimize the sum iterations from scratch. Once a promising length of sequence is identified in the function, it will only focus on finding consecutive sums of sequence higher in length. Hopefully this lowers the runtime and solves the problem without timing out."
   ]
  },
  {
   "cell_type": "code",
   "execution_count": 10,
   "metadata": {},
   "outputs": [
    {
     "name": "stdout",
     "output_type": "stream",
     "text": [
      "Function is accurate according to test\n"
     ]
    }
   ],
   "source": [
    "#testing the function\n",
    "test_inputs = [100,1000]\n",
    "desired_outputs = [(41, 6), (953, 21)]\n",
    "\n",
    "test_outputs = []\n",
    "for input_ in test_inputs:\n",
    "    output = prime_with_longest_sum_2(input_)\n",
    "    test_outputs.append(output)\n",
    "    \n",
    "if test_outputs == desired_outputs:\n",
    "    print('Function is accurate according to test')\n",
    "else:\n",
    "    print('Function is inaccurate')"
   ]
  },
  {
   "cell_type": "code",
   "execution_count": 11,
   "metadata": {},
   "outputs": [
    {
     "data": {
      "text/plain": [
       "[0.0,\n",
       " 0.0,\n",
       " 0.0023467540740966797,\n",
       " 0.0020279884338378906,\n",
       " 0.003646373748779297,\n",
       " 0.03699541091918945,\n",
       " 0.13550066947937012,\n",
       " 3.3895819187164307]"
      ]
     },
     "execution_count": 11,
     "metadata": {},
     "output_type": "execute_result"
    }
   ],
   "source": [
    "#observing runtime and making sure function can run with 1000000 as input\n",
    "inputs = [100, 500, 1000, 5000, 10000, 50000, 100000, 1000000]\n",
    "runtimes = []\n",
    "\n",
    "for i in inputs:\n",
    "    start = time.time()\n",
    "    prime_with_longest_sum_2(i)\n",
    "    runtime = time.time() - start\n",
    "    runtimes.append(runtime)\n",
    "    \n",
    "runtimes"
   ]
  },
  {
   "cell_type": "code",
   "execution_count": 12,
   "metadata": {},
   "outputs": [
    {
     "data": {
      "image/png": "[encoded data removed]",
      "text/plain": [
       "<Figure size 432x288 with 1 Axes>"
      ]
     },
     "metadata": {
      "needs_background": "light"
     },
     "output_type": "display_data"
    }
   ],
   "source": [
    "#plot updated runtimes \n",
    "plt.plot(inputs, runtimes)\n",
    "plt.title('Updated Function Runtimes')\n",
    "plt.xlabel('Input Number')\n",
    "plt.ylabel('Runtime')\n",
    "plt.show()"
   ]
  },
  {
   "cell_type": "markdown",
   "metadata": {},
   "source": [
    "The relationship looks linear but may still be of higher order. Regardless, we can see that the updated function was able to solve for the problem at hand in under 4 seconds and did not time out. "
   ]
  },
  {
   "cell_type": "markdown",
   "metadata": {},
   "source": [
    "## Answer"
   ]
  },
  {
   "cell_type": "code",
   "execution_count": 13,
   "metadata": {
    "scrolled": true
   },
   "outputs": [
    {
     "name": "stdout",
     "output_type": "stream",
     "text": [
      "ANSWER\n",
      "--------------------\n",
      "The longest sum of consecutive primes below 1000000 \n",
      "that adds to a prime, contains 543 terms, and is equal to 997651.\n"
     ]
    }
   ],
   "source": [
    "n = 1000000\n",
    "largest_prime, terms = prime_with_longest_sum_2(n)\n",
    "print('ANSWER')\n",
    "print('-'*20)\n",
    "print('''The longest sum of consecutive primes below {} \n",
    "that adds to a prime, contains {} terms, and is equal to {}.'''.format(n, terms, largest_prime)) "
   ]
  }
 ],
 "metadata": {
  "kernelspec": {
   "display_name": "Python 3",
   "language": "python",
   "name": "python3"
  },
  "language_info": {
   "codemirror_mode": {
    "name": "ipython",
    "version": 3
   },
   "file_extension": ".py",
   "mimetype": "text/x-python",
   "name": "python",
   "nbconvert_exporter": "python",
   "pygments_lexer": "ipython3",
   "version": "3.7.4"
  }
 },
 "nbformat": 4,
 "nbformat_minor": 2
}
